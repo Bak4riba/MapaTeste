{
  "nbformat": 4,
  "nbformat_minor": 0,
  "metadata": {
    "colab": {
      "provenance": [],
      "mount_file_id": "167XFR3-_DugDYNfw1B-ML6be3i_3H3rq",
      "authorship_tag": "ABX9TyOS6U5bvgIShy04O8oqdJOq",
      "include_colab_link": true
    },
    "kernelspec": {
      "name": "python3",
      "display_name": "Python 3"
    },
    "language_info": {
      "name": "python"
    }
  },
  "cells": [
    {
      "cell_type": "markdown",
      "metadata": {
        "id": "view-in-github",
        "colab_type": "text"
      },
      "source": [
        "<a href=\"https://colab.research.google.com/github/Bak4riba/MapaTeste/blob/master/Analise_Portal_Transparencia.ipynb\" target=\"_parent\"><img src=\"https://colab.research.google.com/assets/colab-badge.svg\" alt=\"Open In Colab\"/></a>"
      ]
    },
    {
      "cell_type": "markdown",
      "source": [
        "#Analise Portal da Transparencia com python - Projeto Asimov\n",
        "<hr>"
      ],
      "metadata": {
        "id": "BSoZvAnUVzvm"
      }
    },
    {
      "cell_type": "code",
      "execution_count": null,
      "metadata": {
        "id": "e9e7YhzuVs5V"
      },
      "outputs": [],
      "source": [
        "import pandas as pd\n"
      ]
    },
    {
      "cell_type": "code",
      "source": [],
      "metadata": {
        "id": "jbIrqPeGVzGP"
      },
      "execution_count": null,
      "outputs": []
    }
  ]
}